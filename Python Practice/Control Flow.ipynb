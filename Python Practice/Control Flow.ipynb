{
 "cells": [
  {
   "cell_type": "markdown",
   "metadata": {},
   "source": [
    "Data Science Fundamentals: Python |\n",
    "[Table of Contents](../index.ipynb)\n",
    "- - - \n",
    "<!--NAVIGATION-->\n",
    "Module 3. [Control Flow](./01_mod_control_flow.ipynb) | [Statements](./02_python_statements.ipynb) | [Functions](./03_python_functions.ipynb) | **[Exercises](./04_mod_exercises.ipynb)**"
   ]
  },
  {
   "cell_type": "markdown",
   "metadata": {},
   "source": [
    "# Control Flow Exercises"
   ]
  },
  {
   "cell_type": "markdown",
   "metadata": {},
   "source": [
    "### Exercise 1:\n",
    "Guess a number between 1 to 9 given by the user. Hint. [Random](https://docs.python.org/3/library/random.html)"
   ]
  },
  {
   "cell_type": "code",
   "execution_count": 8,
   "metadata": {},
   "outputs": [
    {
     "name": "stdout",
     "output_type": "stream",
     "text": [
      "Guess a number between 1 and 9: 1\n",
      "Incorrect! Guess again.\n",
      "Guess a number between 1 and 9: 2\n",
      "Incorrect! Guess again.\n",
      "Guess a number between 1 and 9: 3\n",
      "Incorrect! Guess again.\n",
      "Guess a number between 1 and 9: 4\n",
      "You guessed the number correct!\n"
     ]
    }
   ],
   "source": [
    "import random\n",
    "randNum = random.randint(1,9)\n",
    "\n",
    "while True: \n",
    "    guess = int(input(\"Guess a number between 1 and 9: \"))\n",
    "    if guess == randNum:\n",
    "        print(\"You guessed the number correct!\")\n",
    "        break\n",
    "    else: \n",
    "        print(\"Incorrect! Guess again.\")"
   ]
  },
  {
   "cell_type": "markdown",
   "metadata": {},
   "source": [
    "###### Exercise 2:\n",
    "Check the validity of password input by the user. Hint. [Re](https://docs.python.org/3/library/re.html) which does matching operations much like Perl.\n",
    "\n",
    "Validation:\n",
    "\n",
    "- At least 1 letter between [a-z] and 1 letter between [A-Z].\n",
    "- At least 1 number between [0-9].\n",
    "- At least 1 character from [$#@].\n",
    "- Minimum length 6 characters.\n",
    "- Maximum length 16 characters."
   ]
  },
  {
   "cell_type": "code",
   "execution_count": 21,
   "metadata": {},
   "outputs": [
    {
     "name": "stdout",
     "output_type": "stream",
     "text": [
      "Please enter a valid password:\n",
      "Valid passwords are:\n",
      "\t6-16 characters in length,\n",
      "\tContain 1+ numbers,\n",
      "\t1+ character from [$#@], and \n",
      "\tAt least 1 upper and 1 lowercase letter.\n",
      "Input: Jdss@3434\n",
      "Password is valid!\n"
     ]
    }
   ],
   "source": [
    "import re\n",
    "\n",
    "flag = 0\n",
    "\n",
    "Userpwd = input(\"Please enter a valid password:\\nValid passwords are:\\n\\t6-16 characters in length,\\n\\tContain 1+ numbers,\\n\\t1+ character from [$#@], and \\n\\tAt least 1 upper and 1 lowercase letter.\\nInput: \" )\n",
    "\n",
    "if not re.search(r\"[a-z]\", Userpwd):\n",
    "    flag = 1\n",
    "\n",
    "if not re.search(r\"[A-Z]\", Userpwd):\n",
    "    flag = 1\n",
    "\n",
    "if not re.search(r\"[0-9]\", Userpwd):\n",
    "    flag = 1\n",
    "\n",
    "if not re.search(r\"[$#@]\", Userpwd):\n",
    "    flag = 1\n",
    "\n",
    "if not len(Userpwd) >= 6:\n",
    "    flag = 1\n",
    "\n",
    "if not len(Userpwd) <= 16:\n",
    "    flag = 1\n",
    "\n",
    "if flag == 0: \n",
    "    print(\"Password is valid!\")\n",
    "else: \n",
    "    print(\"Password is invalid!\")"
   ]
  },
  {
   "cell_type": "markdown",
   "metadata": {},
   "source": [
    "### Exercise 3:\n",
    "Get input of the age of 3 people by user and determine oldest and youngest among them"
   ]
  },
  {
   "cell_type": "code",
   "execution_count": 23,
   "metadata": {},
   "outputs": [
    {
     "name": "stdout",
     "output_type": "stream",
     "text": [
      "Enter First Person's Age : 24\n",
      "Enter Second Person's Age : 28\n",
      "Enter Third Person's Age : 33\n",
      "The oldest is the Third Person's Age which is 33\n",
      "The youngest is the First Person's Age which is 24\n"
     ]
    }
   ],
   "source": [
    "number1 = int(input(\"Enter First Person's Age : \"))\n",
    "number2 = int(input(\"Enter Second Person's Age : \"))\n",
    "number3 = int(input(\"Enter Third Person's Age : \"))\n",
    "if number1 > number2 and number1 > number3:\n",
    "    print(\"The oldest is the First Person's Age which is\", number1)\n",
    "elif number2 > number1 and number2 > number3:\n",
    "    print(\"The oldest is the Second Person's Age which is\", number2)\n",
    "elif number3 > number1 and number3 > number2: \n",
    "    print(\"The oldest is the Third Person's Age which is\", number3)\n",
    "if number1 < number2 and number1 < number3:\n",
    "    print(\"The youngest is the First Person's Age which is\", number1)\n",
    "elif number2 < number1 and number2 < number3:\n",
    "    print(\"The youngest is the Second Person's Age which is\", number2)\n",
    "elif number3 < number1 and number3 < number2: \n",
    "    print(\"The youngest is the Third Person's Age which is\", number3)\n",
    "if number1 == number2:\n",
    "    print(\"First Person and Second Person are the same age.\")\n",
    "elif number1 == number3: \n",
    "    print(\"First Person and Third Person are the same age.\")\n",
    "elif number2 == number3:\n",
    "    print(\"Second Person and Third Person are the same age.\")\n",
    "else:\n",
    "    pass"
   ]
  },
  {
   "cell_type": "markdown",
   "metadata": {},
   "source": [
    "### Exercise 4:\n",
    "A student will not be allowed to sit in exam if his/her attendance is less than 75%.\n",
    "\n",
    "Take following input from user\n",
    "\n",
    "- Number of classes held\n",
    "- Number of classes attended.\n",
    "- And print percentage of class attended\n",
    "- Is student is allowed to sit in exam or not?"
   ]
  },
  {
   "cell_type": "code",
   "execution_count": 22,
   "metadata": {},
   "outputs": [
    {
     "name": "stdout",
     "output_type": "stream",
     "text": [
      "Enter the number of classes held: 100\n",
      "Enter the number of classes attended: 80\n",
      "80%\n",
      "The student is allowed to sit for the exam.\n"
     ]
    }
   ],
   "source": [
    "x = input(\"Enter the number of classes held: \")\n",
    "y = input(\"Enter the number of classes attended: \")\n",
    "z= int(y)/int(x)\n",
    "percentage = str(round(z*100)) + '%'\n",
    "print(percentage)\n",
    "if percentage >= \"75%\":\n",
    "    print(\"The student is allowed to sit for the exam.\")\n",
    "else: \n",
    "    print(\"The student is not allowed to sit for the exam.\")"
   ]
  },
  {
   "cell_type": "markdown",
   "metadata": {},
   "source": [
    "### Exercise 5:\n",
    "Get an integer N from the user and perform the following actions:\n",
    "\n",
    "Find out - \n",
    "- if N is odd, print \"weird\"\n",
    "- if N is even and in the inclusive range of 2 to 5, print \"Not Weird\"\n",
    "- if N is even and in the inclusive range of 6 to 20, print \"Weird\"\n",
    "- if N is even and greater than 20, print \"Not Weird\""
   ]
  },
  {
   "cell_type": "code",
   "execution_count": 24,
   "metadata": {},
   "outputs": [
    {
     "name": "stdout",
     "output_type": "stream",
     "text": [
      "Enter an integer: 26\n",
      "Not Weird\n"
     ]
    }
   ],
   "source": [
    "n = int(input(\"Enter an integer: \"))\n",
    "if n % 2 == 1:\n",
    "    print(\"Weird\")\n",
    "elif n % 2 == 0 and n in range(2,5):\n",
    "    print(\"Not Weird\")\n",
    "elif n % 2 == 0 and n in range(6,20):\n",
    "    print(\"Weird\")\n",
    "elif n % 2 == 0 and n > 20:\n",
    "    print(\"Not Weird\")\n",
    "else:\n",
    "    pass"
   ]
  },
  {
   "cell_type": "markdown",
   "metadata": {},
   "source": [
    "\n",
    "## Extra Points\n",
    "- - -"
   ]
  },
  {
   "cell_type": "markdown",
   "metadata": {},
   "source": [
    "1. ***Optional Exercise (Extra Points)***. Write a Python program to reverse a string."
   ]
  },
  {
   "cell_type": "raw",
   "metadata": {},
   "source": [
    "Sample String : \"1234abcd\"\n",
    "Expected Output : \"dcba4321\""
   ]
  },
  {
   "cell_type": "code",
   "execution_count": 32,
   "metadata": {},
   "outputs": [
    {
     "name": "stdout",
     "output_type": "stream",
     "text": [
      "Please type what you want to be reversed: 1234abcd\n",
      "dcba4321\n"
     ]
    }
   ],
   "source": [
    "txt = input(\"Please type what you want to be reversed: \")\n",
    "a = str(txt) [::-1]\n",
    "print(a) "
   ]
  },
  {
   "cell_type": "markdown",
   "metadata": {},
   "source": [
    "2. ***Optional Exercise (Extra Points)***. Write a Python function to multiply all the numbers in a list. "
   ]
  },
  {
   "cell_type": "raw",
   "metadata": {},
   "source": [
    "Sample List : (8, 2, 3, -1, 7)\n",
    "Expected Output : -336"
   ]
  },
  {
   "cell_type": "code",
   "execution_count": 55,
   "metadata": {},
   "outputs": [
    {
     "name": "stdout",
     "output_type": "stream",
     "text": [
      "Enter the number of elements in the list: 5\n",
      "8\n",
      "2\n",
      "3\n",
      "-1\n",
      "7\n",
      "[8, 2, 3, -1, 7]\n",
      "-336\n"
     ]
    }
   ],
   "source": [
    "lst = [] #I could not solve this with tuples so I just did it with lists\n",
    "x = int(input(\"Enter the number of elements in the list: \"))\n",
    "for y in range(0,x):\n",
    "    element = int(input())\n",
    "    lst.append(element)\n",
    "    \n",
    "print(lst)\n",
    "\n",
    "def multiply(numbers):  \n",
    "    total = 1\n",
    "    for x in numbers:\n",
    "        total *= x  \n",
    "    return total \n",
    "print(multiply(lst))   "
   ]
  },
  {
   "cell_type": "markdown",
   "metadata": {},
   "source": [
    "3. ***Optional Exercise (Extra Points)***. Write a Python function that accepts a string and calculate the number of upper case letters and lower case letters."
   ]
  },
  {
   "cell_type": "raw",
   "metadata": {},
   "source": [
    "Sample String : 'The quick Brow Fox'\n",
    "Expected Output :\n",
    "No. of Upper case characters : 3\n",
    "No. of Lower case Characters : 12"
   ]
  },
  {
   "cell_type": "code",
   "execution_count": 56,
   "metadata": {},
   "outputs": [
    {
     "name": "stdout",
     "output_type": "stream",
     "text": [
      "Please enter your sentence: The quick Brow Fox\n",
      "No. of Upper case characters : 3\n",
      "No. of Lower case characters : 12\n"
     ]
    }
   ],
   "source": [
    "x = input(\"Please enter your sentence: \")\n",
    "a = sum(1 for i in x if i.isupper())\n",
    "b = sum(1 for i in x if i.islower())\n",
    "print( \"No. of Upper case characters : %s\"  % (a))\n",
    "print( \"No. of Lower case characters : %s\" % (b))"
   ]
  },
  {
   "cell_type": "markdown",
   "metadata": {},
   "source": [
    "- - -\n",
    "\n",
    "Copyright © 2020 Qualex Consulting Services Incorporated."
   ]
  }
 ],
 "metadata": {
  "kernelspec": {
   "display_name": "Python 3",
   "language": "python",
   "name": "python3"
  },
  "language_info": {
   "codemirror_mode": {
    "name": "ipython",
    "version": 3
   },
   "file_extension": ".py",
   "mimetype": "text/x-python",
   "name": "python",
   "nbconvert_exporter": "python",
   "pygments_lexer": "ipython3",
   "version": "3.8.8"
  }
 },
 "nbformat": 4,
 "nbformat_minor": 4
}
