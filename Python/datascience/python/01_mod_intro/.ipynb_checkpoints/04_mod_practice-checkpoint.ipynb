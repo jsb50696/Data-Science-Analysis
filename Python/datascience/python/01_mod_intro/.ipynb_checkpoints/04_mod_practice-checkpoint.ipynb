{
 "cells": [
  {
   "cell_type": "markdown",
   "metadata": {},
   "source": [
    "Data Science Fundamentals: Python |\n",
    "[Table of Contents](../index.ipynb)\n",
    "- - - \n",
    "<!--NAVIGATION-->\n",
    "Module 1. [Basic Python Syntax](./01_mod_python_syntax.ipynb) | [Variables and Objects](./02_python_variables_objects.ipynb) | [Operators](./03_python_operators.ipynb) | **[Exercises](./04_mod_practice.ipynb)**"
   ]
  },
  {
   "cell_type": "markdown",
   "metadata": {},
   "source": [
    "# Module 1: Practice Exercises\n",
    "Please remember to submit this file to Titus"
   ]
  },
  {
   "cell_type": "markdown",
   "metadata": {},
   "source": [
    "### Exercise 1: Accept the user's first and last name and print them in reverse order with a space between them."
   ]
  },
  {
   "cell_type": "code",
   "execution_count": 8,
   "metadata": {},
   "outputs": [
    {
     "name": "stdout",
     "output_type": "stream",
     "text": [
      "Insert your first name:James\n",
      "Insert your last name:Bang\n",
      "Bang James\n"
     ]
    }
   ],
   "source": [
    "FirstName= input(\"Insert your first name:\") \n",
    "LastName= input(\"Insert your last name:\") \n",
    "\n",
    "print(LastName,FirstName) #name will be printed as Last Name First Name"
   ]
  },
  {
   "cell_type": "markdown",
   "metadata": {},
   "source": [
    "# Exercise 2. Accept an integer (n) input from the user and compute the value of n+nn+nnn\n",
    "For example if `n=4` then `n + nn + nnn = 4 + 44 + 444 = 492`"
   ]
  },
  {
   "cell_type": "code",
   "execution_count": 4,
   "metadata": {},
   "outputs": [
    {
     "name": "stdout",
     "output_type": "stream",
     "text": [
      "Insert a number:4\n",
      "4\n",
      "492\n"
     ]
    }
   ],
   "source": [
    "n=str(input(\"Insert a number:\"))\n",
    "print(n)\n",
    "print(int(n)+int(n+n)+int(n+n+n))"
   ]
  },
  {
   "cell_type": "markdown",
   "metadata": {},
   "source": [
    "### Exercise 3. Ask the user \"What country are you from?\" then print the following statement: \"I have heard that [input] is a beautiful country!\""
   ]
  },
  {
   "cell_type": "code",
   "execution_count": 4,
   "metadata": {},
   "outputs": [
    {
     "name": "stdout",
     "output_type": "stream",
     "text": [
      "What country are you from?South Korea\n",
      "I have heard that South Korea is a beautiful country!\n"
     ]
    }
   ],
   "source": [
    "x = input(\"What country are you from?\")\n",
    "\n",
    "print(\"I have heard that %s is a beautiful country!\" % (x))"
   ]
  },
  {
   "cell_type": "markdown",
   "metadata": {},
   "source": [
    "### Exercise 4. What is the output of the following python code?"
   ]
  },
  {
   "cell_type": "raw",
   "metadata": {},
   "source": [
    "x = 10\n",
    "y = 50\n",
    "if (x ** 2 > 100 and y < 100):\n",
    "    print(x, y)"
   ]
  },
  {
   "cell_type": "markdown",
   "metadata": {},
   "source": [
    "The code will not print or show anything because the if statement is false. Going through the code we see that 10^2 is not greater than 100; therefore, there is no else statement so nothing will be printed. "
   ]
  },
  {
   "cell_type": "markdown",
   "metadata": {},
   "source": [
    "### Exercise 5: What is the output of the following addition `+` operator, and why does this code chunk execute this way??"
   ]
  },
  {
   "cell_type": "raw",
   "metadata": {},
   "source": [
    "a = [10, 20]\n",
    "b = a\n",
    "b += [30, 40]\n",
    "print(a)\n",
    "print(b)"
   ]
  },
  {
   "cell_type": "markdown",
   "metadata": {},
   "source": [
    "[10, 20, 30, 40]\n",
    "[10, 20, 30. 40]\n",
    "This happens because the variables act as pointers. B points to A, so they will combine and will both print the list of [10,20,30,40]."
   ]
  },
  {
   "cell_type": "markdown",
   "metadata": {},
   "source": [
    "### Exercise 6. What is the output of the following code, and what operator is being used here?"
   ]
  },
  {
   "cell_type": "raw",
   "metadata": {},
   "source": [
    "print(2%6)"
   ]
  },
  {
   "cell_type": "markdown",
   "metadata": {},
   "source": [
    "The output is 2. The operator being used here is the modulo. "
   ]
  },
  {
   "cell_type": "markdown",
   "metadata": {},
   "source": [
    "### Exercise 7: What is the output of the following code, and what arithmetic operators are used in this code?"
   ]
  },
  {
   "cell_type": "raw",
   "metadata": {},
   "source": [
    "print(2 * 3 ** 3 * 4)"
   ]
  },
  {
   "cell_type": "markdown",
   "metadata": {},
   "source": [
    "The output is 216. The operators we use in this code are multiplication and exponentiation. "
   ]
  },
  {
   "cell_type": "markdown",
   "metadata": {},
   "source": [
    "### Exercise 8: What is a text editor?"
   ]
  },
  {
   "cell_type": "markdown",
   "metadata": {},
   "source": [
    "A text editor is a program that allows users to edit text. "
   ]
  },
  {
   "cell_type": "markdown",
   "metadata": {},
   "source": [
    "### Exercise 9: What is python?"
   ]
  },
  {
   "cell_type": "markdown",
   "metadata": {},
   "source": [
    "Python is a high-level programming language with dynamic semantics. It is built in data-structures to script or glue language to connect existing components together. It has simple and easy to learn syntax. Its language uses an object-oriented approach to help programmers write code. "
   ]
  },
  {
   "cell_type": "markdown",
   "metadata": {},
   "source": [
    "### Exercise 10: What is jupyter notebook, what type of python environment is it, and what alternatives are there to jupyter notebook?"
   ]
  },
  {
   "cell_type": "markdown",
   "metadata": {},
   "source": [
    "Jupyter Notebook is an open-source software that allows users to create and share code, equations, visualizations and narrative text.The notebook can be used for data-cleaning, numerical simulation, statistical modeling, and much more. The notebook is a hybrid development environment. Some alternatives to this notebook are: PyCharm, RStudio, and Spark Notebook. "
   ]
  },
  {
   "cell_type": "markdown",
   "metadata": {},
   "source": [
    "### Please remember to submit this file to Titus!"
   ]
  },
  {
   "cell_type": "markdown",
   "metadata": {},
   "source": [
    "<!--NAVIGATION-->\n",
    "Module 1. [Basic Python Syntax](./01_mod_python_syntax.ipynb) | [Variables and Objects](./02_python_variables_objects.ipynb) | [Operators](./03_python_operators.ipynb) | **[Practice](./04_mod_practice.ipynb)**\n",
    "<br>\n",
    "[top](#)"
   ]
  },
  {
   "cell_type": "markdown",
   "metadata": {},
   "source": [
    "- - -\n",
    "\n",
    "Copyright © 2020 Qualex Consulting Services Incorporated."
   ]
  }
 ],
 "metadata": {
  "kernelspec": {
   "display_name": "Python 3",
   "language": "python",
   "name": "python3"
  },
  "language_info": {
   "codemirror_mode": {
    "name": "ipython",
    "version": 3
   },
   "file_extension": ".py",
   "mimetype": "text/x-python",
   "name": "python",
   "nbconvert_exporter": "python",
   "pygments_lexer": "ipython3",
   "version": "3.8.8"
  }
 },
 "nbformat": 4,
 "nbformat_minor": 4
}
